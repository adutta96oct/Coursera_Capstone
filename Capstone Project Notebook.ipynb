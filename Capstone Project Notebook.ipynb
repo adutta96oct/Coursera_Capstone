{
    "cells": [
        {
            "cell_type": "markdown",
            "metadata": {
                "collapsed": true
            },
            "source": "### This notebook will be primarily used for IBM Data Science Capstone Project "
        },
        {
            "cell_type": "code",
            "execution_count": 1,
            "metadata": {},
            "outputs": [
                {
                    "name": "stdout",
                    "output_type": "stream",
                    "text": "Hello Capstone Project Course!\n"
                }
            ],
            "source": "import pandas as pd\nimport numpy as np\nprint('Hello Capstone Project Course!')"
        },
        {
            "cell_type": "markdown",
            "metadata": {},
            "source": "#### Install BeautifulSoup package "
        },
        {
            "cell_type": "code",
            "execution_count": 2,
            "metadata": {},
            "outputs": [
                {
                    "name": "stdout",
                    "output_type": "stream",
                    "text": "Requirement already satisfied: beautifulsoup4 in /opt/conda/envs/Python36/lib/python3.6/site-packages (4.7.1)\r\nRequirement already satisfied: soupsieve>=1.2 in /opt/conda/envs/Python36/lib/python3.6/site-packages (from beautifulsoup4) (1.7.1)\r\n"
                }
            ],
            "source": "!pip install beautifulsoup4"
        },
        {
            "cell_type": "markdown",
            "metadata": {},
            "source": "#### Extract the table from Wiki page"
        },
        {
            "cell_type": "code",
            "execution_count": 3,
            "metadata": {},
            "outputs": [],
            "source": "from bs4 import BeautifulSoup\nimport requests\n\nsource=requests.get('https://en.wikipedia.org/wiki/List_of_postal_codes_of_Canada:_M').text\nsoup = BeautifulSoup(source, 'lxml')\ntable=soup.find('table', class_='wikitable sortable')"
        },
        {
            "cell_type": "markdown",
            "metadata": {},
            "source": "#### Assign headers"
        },
        {
            "cell_type": "code",
            "execution_count": 22,
            "metadata": {},
            "outputs": [
                {
                    "data": {
                        "text/plain": "['Postcode', 'Borough', 'Neighbourhood']"
                    },
                    "execution_count": 22,
                    "metadata": {},
                    "output_type": "execute_result"
                }
            ],
            "source": "#headers\nheaderlist=[]\nheaders=table.find_all('th')\nfor header in headers:\n    headerlist.append(header.text.rstrip())\nheaderlist"
        },
        {
            "cell_type": "markdown",
            "metadata": {},
            "source": "#### Obtaining Table data in a CSV format"
        },
        {
            "cell_type": "code",
            "execution_count": 5,
            "metadata": {},
            "outputs": [
                {
                    "name": "stdout",
                    "output_type": "stream",
                    "text": "M1A,Not assigned,Not assigned\nM2A,Not assigned,Not assigned\nM3A,North York,Parkwoods\nM4A,North York,Victoria Village\nM5A,Downtown Toronto,Harbourfront\nM6A,North York,Lawrence Heights\nM6A,North York,Lawrence Manor\nM7A,Downtown Toronto,Queen's Park\nM8A,Not assigned,Not assigned\nM9A,Etobicoke,Islington Avenue\nM1B,Scarborough,Rouge\nM1B,Scarborough,Malvern\nM2B,Not assigned,Not assigned\nM3B,North York,Don Mills North\nM4B,East York,Woodbine Gardens\nM4B,East York,Parkview Hill\nM5B,Downtown Toronto,Ryerson\nM5B,Downtown Toronto,Garden District\nM6B,North York,Glencairn\nM7B,Not assigned,Not assigned\nM8B,Not assigned,Not assigned\nM9B,Etobicoke,Cloverdale\nM9B,Etobicoke,Islington\nM9B,Etobicoke,Martin Grove\nM9B,Etobicoke,Princess Gardens\nM9B,Etobicoke,West Deane Park\nM1C,Scarborough,Highland Creek\nM1C,Scarborough,Rouge Hill\nM1C,Scarborough,Port Union\nM2C,Not assigned,Not assigned\nM3C,North York,Flemingdon Park\nM3C,North York,Don Mills South\nM4C,East York,Woodbine Heights\nM5C,Downtown Toronto,St. James Town\nM6C,York,Humewood-Cedarvale\nM7C,Not assigned,Not assigned\nM8C,Not assigned,Not assigned\nM9C,Etobicoke,Bloordale Gardens\nM9C,Etobicoke,Eringate\nM9C,Etobicoke,Markland Wood\nM9C,Etobicoke,Old Burnhamthorpe\nM1E,Scarborough,Guildwood\nM1E,Scarborough,Morningside\nM1E,Scarborough,West Hill\nM2E,Not assigned,Not assigned\nM3E,Not assigned,Not assigned\nM4E,East Toronto,The Beaches\nM5E,Downtown Toronto,Berczy Park\nM6E,York,Caledonia-Fairbanks\nM7E,Not assigned,Not assigned\nM8E,Not assigned,Not assigned\nM9E,Not assigned,Not assigned\nM1G,Scarborough,Woburn\nM2G,Not assigned,Not assigned\nM3G,Not assigned,Not assigned\nM4G,East York,Leaside\nM5G,Downtown Toronto,Central Bay Street\nM6G,Downtown Toronto,Christie\nM7G,Not assigned,Not assigned\nM8G,Not assigned,Not assigned\nM9G,Not assigned,Not assigned\nM1H,Scarborough,Cedarbrae\nM2H,North York,Hillcrest Village\nM3H,North York,Bathurst Manor\nM3H,North York,Downsview North\nM3H,North York,Wilson Heights\nM4H,East York,Thorncliffe Park\nM5H,Downtown Toronto,Adelaide\nM5H,Downtown Toronto,King\nM5H,Downtown Toronto,Richmond\nM6H,West Toronto,Dovercourt Village\nM6H,West Toronto,Dufferin\nM7H,Not assigned,Not assigned\nM8H,Not assigned,Not assigned\nM9H,Not assigned,Not assigned\nM1J,Scarborough,Scarborough Village\nM2J,North York,Fairview\nM2J,North York,Henry Farm\nM2J,North York,Oriole\nM3J,North York,Northwood Park\nM3J,North York,York University\nM4J,East York,East Toronto\nM5J,Downtown Toronto,Harbourfront East\nM5J,Downtown Toronto,Toronto Islands\nM5J,Downtown Toronto,Union Station\nM6J,West Toronto,Little Portugal\nM6J,West Toronto,Trinity\nM7J,Not assigned,Not assigned\nM8J,Not assigned,Not assigned\nM9J,Not assigned,Not assigned\nM1K,Scarborough,East Birchmount Park\nM1K,Scarborough,Ionview\nM1K,Scarborough,Kennedy Park\nM2K,North York,Bayview Village\nM3K,North York,CFB Toronto\nM3K,North York,Downsview East\nM4K,East Toronto,The Danforth West\nM4K,East Toronto,Riverdale\nM5K,Downtown Toronto,Design Exchange\nM5K,Downtown Toronto,Toronto Dominion Centre\nM6K,West Toronto,Brockton\nM6K,West Toronto,Exhibition Place\nM6K,West Toronto,Parkdale Village\nM7K,Not assigned,Not assigned\nM8K,Not assigned,Not assigned\nM9K,Not assigned,Not assigned\nM1L,Scarborough,Clairlea\nM1L,Scarborough,Golden Mile\nM1L,Scarborough,Oakridge\nM2L,North York,Silver Hills\nM2L,North York,York Mills\nM3L,North York,Downsview West\nM4L,East Toronto,The Beaches West\nM4L,East Toronto,India Bazaar\nM5L,Downtown Toronto,Commerce Court\nM5L,Downtown Toronto,Victoria Hotel\nM6L,North York,Downsview\nM6L,North York,North Park\nM6L,North York,Upwood Park\nM7L,Not assigned,Not assigned\nM8L,Not assigned,Not assigned\nM9L,North York,Humber Summit\nM1M,Scarborough,Cliffcrest\nM1M,Scarborough,Cliffside\nM1M,Scarborough,Scarborough Village West\nM2M,North York,Newtonbrook\nM2M,North York,Willowdale\nM3M,North York,Downsview Central\nM4M,East Toronto,Studio District\nM5M,North York,Bedford Park\nM5M,North York,Lawrence Manor East\nM6M,York,Del Ray\nM6M,York,Keelesdale\nM6M,York,Mount Dennis\nM6M,York,Silverthorn\nM7M,Not assigned,Not assigned\nM8M,Not assigned,Not assigned\nM9M,North York,Emery\nM9M,North York,Humberlea\nM1N,Scarborough,Birch Cliff\nM1N,Scarborough,Cliffside West\nM2N,North York,Willowdale South\nM3N,North York,Downsview Northwest\nM4N,Central Toronto,Lawrence Park\nM5N,Central Toronto,Roselawn\nM6N,York,The Junction North\nM6N,York,Runnymede\nM7N,Not assigned,Not assigned\nM8N,Not assigned,Not assigned\nM9N,York,Weston\nM1P,Scarborough,Dorset Park\nM1P,Scarborough,Scarborough Town Centre\nM1P,Scarborough,Wexford Heights\nM2P,North York,York Mills West\nM3P,Not assigned,Not assigned\nM4P,Central Toronto,Davisville North\nM5P,Central Toronto,Forest Hill North\nM5P,Central Toronto,Forest Hill West\nM6P,West Toronto,High Park\nM6P,West Toronto,The Junction South\nM7P,Not assigned,Not assigned\nM8P,Not assigned,Not assigned\nM9P,Etobicoke,Westmount\nM1R,Scarborough,Maryvale\nM1R,Scarborough,Wexford\nM2R,North York,Willowdale West\nM3R,Not assigned,Not assigned\nM4R,Central Toronto,North Toronto West\nM5R,Central Toronto,The Annex\nM5R,Central Toronto,North Midtown\nM5R,Central Toronto,Yorkville\nM6R,West Toronto,Parkdale\nM6R,West Toronto,Roncesvalles\nM7R,Mississauga,Canada Post Gateway Processing Centre\nM8R,Not assigned,Not assigned\nM9R,Etobicoke,Kingsview Village\nM9R,Etobicoke,Martin Grove Gardens\nM9R,Etobicoke,Richview Gardens\nM9R,Etobicoke,St. Phillips\nM1S,Scarborough,Agincourt\nM2S,Not assigned,Not assigned\nM3S,Not assigned,Not assigned\nM4S,Central Toronto,Davisville\nM5S,Downtown Toronto,Harbord\nM5S,Downtown Toronto,University of Toronto\nM6S,West Toronto,Runnymede\nM6S,West Toronto,Swansea\nM7S,Not assigned,Not assigned\nM8S,Not assigned,Not assigned\nM9S,Not assigned,Not assigned\nM1T,Scarborough,Clarks Corners\nM1T,Scarborough,Sullivan\nM1T,Scarborough,Tam O'Shanter\nM2T,Not assigned,Not assigned\nM3T,Not assigned,Not assigned\nM4T,Central Toronto,Moore Park\nM4T,Central Toronto,Summerhill East\nM5T,Downtown Toronto,Chinatown\nM5T,Downtown Toronto,Grange Park\nM5T,Downtown Toronto,Kensington Market\nM6T,Not assigned,Not assigned\nM7T,Not assigned,Not assigned\nM8T,Not assigned,Not assigned\nM9T,Not assigned,Not assigned\nM1V,Scarborough,Agincourt North\nM1V,Scarborough,L'Amoreaux East\nM1V,Scarborough,Milliken\nM1V,Scarborough,Steeles East\nM2V,Not assigned,Not assigned\nM3V,Not assigned,Not assigned\nM4V,Central Toronto,Deer Park\nM4V,Central Toronto,Forest Hill SE\nM4V,Central Toronto,Rathnelly\nM4V,Central Toronto,South Hill\nM4V,Central Toronto,Summerhill West\nM5V,Downtown Toronto,CN Tower\nM5V,Downtown Toronto,Bathurst Quay\nM5V,Downtown Toronto,Island airport\nM5V,Downtown Toronto,Harbourfront West\nM5V,Downtown Toronto,King and Spadina\nM5V,Downtown Toronto,Railway Lands\nM5V,Downtown Toronto,South Niagara\nM6V,Not assigned,Not assigned\nM7V,Not assigned,Not assigned\nM8V,Etobicoke,Humber Bay Shores\nM8V,Etobicoke,Mimico South\nM8V,Etobicoke,New Toronto\nM9V,Etobicoke,Albion Gardens\nM9V,Etobicoke,Beaumond Heights\nM9V,Etobicoke,Humbergate\nM9V,Etobicoke,Jamestown\nM9V,Etobicoke,Mount Olive\nM9V,Etobicoke,Silverstone\nM9V,Etobicoke,South Steeles\nM9V,Etobicoke,Thistletown\nM1W,Scarborough,L'Amoreaux West\nM2W,Not assigned,Not assigned\nM3W,Not assigned,Not assigned\nM4W,Downtown Toronto,Rosedale\nM5W,Downtown Toronto,Stn A PO Boxes 25 The Esplanade\nM6W,Not assigned,Not assigned\nM7W,Not assigned,Not assigned\nM8W,Etobicoke,Alderwood\nM8W,Etobicoke,Long Branch\nM9W,Etobicoke,Northwest\nM1X,Scarborough,Upper Rouge\nM2X,Not assigned,Not assigned\nM3X,Not assigned,Not assigned\nM4X,Downtown Toronto,Cabbagetown\nM4X,Downtown Toronto,St. James Town\nM5X,Downtown Toronto,First Canadian Place\nM5X,Downtown Toronto,Underground city\nM6X,Not assigned,Not assigned\nM7X,Not assigned,Not assigned\nM8X,Etobicoke,The Kingsway\nM8X,Etobicoke,Montgomery Road\nM8X,Etobicoke,Old Mill North\nM9X,Not assigned,Not assigned\nM1Y,Not assigned,Not assigned\nM2Y,Not assigned,Not assigned\nM3Y,Not assigned,Not assigned\nM4Y,Downtown Toronto,Church and Wellesley\nM5Y,Not assigned,Not assigned\nM6Y,Not assigned,Not assigned\nM7Y,East Toronto,Business Reply Mail Processing Centre 969 Eastern\nM8Y,Etobicoke,Humber Bay\nM8Y,Etobicoke,King's Mill Park\nM8Y,Etobicoke,Kingsway Park South East\nM8Y,Etobicoke,Mimico NE\nM8Y,Etobicoke,Old Mill South\nM8Y,Etobicoke,The Queensway East\nM8Y,Etobicoke,Royal York South East\nM8Y,Etobicoke,Sunnylea\nM9Y,Not assigned,Not assigned\nM1Z,Not assigned,Not assigned\nM2Z,Not assigned,Not assigned\nM3Z,Not assigned,Not assigned\nM4Z,Not assigned,Not assigned\nM5Z,Not assigned,Not assigned\nM6Z,Not assigned,Not assigned\nM7Z,Not assigned,Not assigned\nM8Z,Etobicoke,Kingsway Park South West\nM8Z,Etobicoke,Mimico NW\nM8Z,Etobicoke,The Queensway West\nM8Z,Etobicoke,Royal York South West\nM8Z,Etobicoke,South of Bloor\nM9Z,Not assigned,Not assigned\n\n"
                }
            ],
            "source": "dftable=\"\"\nfor tr in table.find_all(\"tr\"):\n    r1=\"\"\n    for td in tr.find_all(\"td\"):\n        r1=r1+','+td.text\n    dftable=dftable+r1[1:]\nprint(dftable)"
        },
        {
            "cell_type": "markdown",
            "metadata": {},
            "source": "#### Convert the above text to .csv format"
        },
        {
            "cell_type": "code",
            "execution_count": 6,
            "metadata": {},
            "outputs": [
                {
                    "data": {
                        "text/plain": "8709"
                    },
                    "execution_count": 6,
                    "metadata": {},
                    "output_type": "execute_result"
                }
            ],
            "source": "file=open(\"postcode.csv\",\"wb\")\nfile.write(bytes(dftable,encoding=\"ascii\",errors=\"ignore\"))"
        },
        {
            "cell_type": "markdown",
            "metadata": {},
            "source": "#### Read the assigned .csv file"
        },
        {
            "cell_type": "code",
            "execution_count": 7,
            "metadata": {},
            "outputs": [],
            "source": "df=pd.read_csv('postcode.csv', header=None)\ndf.columns=headerlist"
        },
        {
            "cell_type": "markdown",
            "metadata": {},
            "source": "#### To process the cells that have an assigned borough and Ignore cells with a borough that is \"Not assigned\"."
        },
        {
            "cell_type": "code",
            "execution_count": 9,
            "metadata": {},
            "outputs": [
                {
                    "data": {
                        "text/html": "<div>\n<style scoped>\n    .dataframe tbody tr th:only-of-type {\n        vertical-align: middle;\n    }\n\n    .dataframe tbody tr th {\n        vertical-align: top;\n    }\n\n    .dataframe thead th {\n        text-align: right;\n    }\n</style>\n<table border=\"1\" class=\"dataframe\">\n  <thead>\n    <tr style=\"text-align: right;\">\n      <th></th>\n      <th>Postcode</th>\n      <th>Borough</th>\n      <th>Neighbourhood</th>\n    </tr>\n  </thead>\n  <tbody>\n    <tr>\n      <th>2</th>\n      <td>M3A</td>\n      <td>North York</td>\n      <td>Parkwoods</td>\n    </tr>\n    <tr>\n      <th>3</th>\n      <td>M4A</td>\n      <td>North York</td>\n      <td>Victoria Village</td>\n    </tr>\n    <tr>\n      <th>4</th>\n      <td>M5A</td>\n      <td>Downtown Toronto</td>\n      <td>Harbourfront</td>\n    </tr>\n    <tr>\n      <th>5</th>\n      <td>M6A</td>\n      <td>North York</td>\n      <td>Lawrence Heights</td>\n    </tr>\n    <tr>\n      <th>6</th>\n      <td>M6A</td>\n      <td>North York</td>\n      <td>Lawrence Manor</td>\n    </tr>\n    <tr>\n      <th>7</th>\n      <td>M7A</td>\n      <td>Downtown Toronto</td>\n      <td>Queen's Park</td>\n    </tr>\n    <tr>\n      <th>9</th>\n      <td>M9A</td>\n      <td>Etobicoke</td>\n      <td>Islington Avenue</td>\n    </tr>\n    <tr>\n      <th>10</th>\n      <td>M1B</td>\n      <td>Scarborough</td>\n      <td>Rouge</td>\n    </tr>\n    <tr>\n      <th>11</th>\n      <td>M1B</td>\n      <td>Scarborough</td>\n      <td>Malvern</td>\n    </tr>\n    <tr>\n      <th>13</th>\n      <td>M3B</td>\n      <td>North York</td>\n      <td>Don Mills North</td>\n    </tr>\n    <tr>\n      <th>14</th>\n      <td>M4B</td>\n      <td>East York</td>\n      <td>Woodbine Gardens</td>\n    </tr>\n    <tr>\n      <th>15</th>\n      <td>M4B</td>\n      <td>East York</td>\n      <td>Parkview Hill</td>\n    </tr>\n    <tr>\n      <th>16</th>\n      <td>M5B</td>\n      <td>Downtown Toronto</td>\n      <td>Ryerson</td>\n    </tr>\n    <tr>\n      <th>17</th>\n      <td>M5B</td>\n      <td>Downtown Toronto</td>\n      <td>Garden District</td>\n    </tr>\n    <tr>\n      <th>18</th>\n      <td>M6B</td>\n      <td>North York</td>\n      <td>Glencairn</td>\n    </tr>\n    <tr>\n      <th>21</th>\n      <td>M9B</td>\n      <td>Etobicoke</td>\n      <td>Cloverdale</td>\n    </tr>\n    <tr>\n      <th>22</th>\n      <td>M9B</td>\n      <td>Etobicoke</td>\n      <td>Islington</td>\n    </tr>\n    <tr>\n      <th>23</th>\n      <td>M9B</td>\n      <td>Etobicoke</td>\n      <td>Martin Grove</td>\n    </tr>\n    <tr>\n      <th>24</th>\n      <td>M9B</td>\n      <td>Etobicoke</td>\n      <td>Princess Gardens</td>\n    </tr>\n    <tr>\n      <th>25</th>\n      <td>M9B</td>\n      <td>Etobicoke</td>\n      <td>West Deane Park</td>\n    </tr>\n    <tr>\n      <th>26</th>\n      <td>M1C</td>\n      <td>Scarborough</td>\n      <td>Highland Creek</td>\n    </tr>\n    <tr>\n      <th>27</th>\n      <td>M1C</td>\n      <td>Scarborough</td>\n      <td>Rouge Hill</td>\n    </tr>\n    <tr>\n      <th>28</th>\n      <td>M1C</td>\n      <td>Scarborough</td>\n      <td>Port Union</td>\n    </tr>\n    <tr>\n      <th>30</th>\n      <td>M3C</td>\n      <td>North York</td>\n      <td>Flemingdon Park</td>\n    </tr>\n    <tr>\n      <th>31</th>\n      <td>M3C</td>\n      <td>North York</td>\n      <td>Don Mills South</td>\n    </tr>\n    <tr>\n      <th>32</th>\n      <td>M4C</td>\n      <td>East York</td>\n      <td>Woodbine Heights</td>\n    </tr>\n    <tr>\n      <th>33</th>\n      <td>M5C</td>\n      <td>Downtown Toronto</td>\n      <td>St. James Town</td>\n    </tr>\n    <tr>\n      <th>34</th>\n      <td>M6C</td>\n      <td>York</td>\n      <td>Humewood-Cedarvale</td>\n    </tr>\n    <tr>\n      <th>37</th>\n      <td>M9C</td>\n      <td>Etobicoke</td>\n      <td>Bloordale Gardens</td>\n    </tr>\n    <tr>\n      <th>38</th>\n      <td>M9C</td>\n      <td>Etobicoke</td>\n      <td>Eringate</td>\n    </tr>\n    <tr>\n      <th>...</th>\n      <td>...</td>\n      <td>...</td>\n      <td>...</td>\n    </tr>\n    <tr>\n      <th>234</th>\n      <td>M9V</td>\n      <td>Etobicoke</td>\n      <td>Thistletown</td>\n    </tr>\n    <tr>\n      <th>235</th>\n      <td>M1W</td>\n      <td>Scarborough</td>\n      <td>L'Amoreaux West</td>\n    </tr>\n    <tr>\n      <th>238</th>\n      <td>M4W</td>\n      <td>Downtown Toronto</td>\n      <td>Rosedale</td>\n    </tr>\n    <tr>\n      <th>239</th>\n      <td>M5W</td>\n      <td>Downtown Toronto</td>\n      <td>Stn A PO Boxes 25 The Esplanade</td>\n    </tr>\n    <tr>\n      <th>242</th>\n      <td>M8W</td>\n      <td>Etobicoke</td>\n      <td>Alderwood</td>\n    </tr>\n    <tr>\n      <th>243</th>\n      <td>M8W</td>\n      <td>Etobicoke</td>\n      <td>Long Branch</td>\n    </tr>\n    <tr>\n      <th>244</th>\n      <td>M9W</td>\n      <td>Etobicoke</td>\n      <td>Northwest</td>\n    </tr>\n    <tr>\n      <th>245</th>\n      <td>M1X</td>\n      <td>Scarborough</td>\n      <td>Upper Rouge</td>\n    </tr>\n    <tr>\n      <th>248</th>\n      <td>M4X</td>\n      <td>Downtown Toronto</td>\n      <td>Cabbagetown</td>\n    </tr>\n    <tr>\n      <th>249</th>\n      <td>M4X</td>\n      <td>Downtown Toronto</td>\n      <td>St. James Town</td>\n    </tr>\n    <tr>\n      <th>250</th>\n      <td>M5X</td>\n      <td>Downtown Toronto</td>\n      <td>First Canadian Place</td>\n    </tr>\n    <tr>\n      <th>251</th>\n      <td>M5X</td>\n      <td>Downtown Toronto</td>\n      <td>Underground city</td>\n    </tr>\n    <tr>\n      <th>254</th>\n      <td>M8X</td>\n      <td>Etobicoke</td>\n      <td>The Kingsway</td>\n    </tr>\n    <tr>\n      <th>255</th>\n      <td>M8X</td>\n      <td>Etobicoke</td>\n      <td>Montgomery Road</td>\n    </tr>\n    <tr>\n      <th>256</th>\n      <td>M8X</td>\n      <td>Etobicoke</td>\n      <td>Old Mill North</td>\n    </tr>\n    <tr>\n      <th>261</th>\n      <td>M4Y</td>\n      <td>Downtown Toronto</td>\n      <td>Church and Wellesley</td>\n    </tr>\n    <tr>\n      <th>264</th>\n      <td>M7Y</td>\n      <td>East Toronto</td>\n      <td>Business Reply Mail Processing Centre 969 Eastern</td>\n    </tr>\n    <tr>\n      <th>265</th>\n      <td>M8Y</td>\n      <td>Etobicoke</td>\n      <td>Humber Bay</td>\n    </tr>\n    <tr>\n      <th>266</th>\n      <td>M8Y</td>\n      <td>Etobicoke</td>\n      <td>King's Mill Park</td>\n    </tr>\n    <tr>\n      <th>267</th>\n      <td>M8Y</td>\n      <td>Etobicoke</td>\n      <td>Kingsway Park South East</td>\n    </tr>\n    <tr>\n      <th>268</th>\n      <td>M8Y</td>\n      <td>Etobicoke</td>\n      <td>Mimico NE</td>\n    </tr>\n    <tr>\n      <th>269</th>\n      <td>M8Y</td>\n      <td>Etobicoke</td>\n      <td>Old Mill South</td>\n    </tr>\n    <tr>\n      <th>270</th>\n      <td>M8Y</td>\n      <td>Etobicoke</td>\n      <td>The Queensway East</td>\n    </tr>\n    <tr>\n      <th>271</th>\n      <td>M8Y</td>\n      <td>Etobicoke</td>\n      <td>Royal York South East</td>\n    </tr>\n    <tr>\n      <th>272</th>\n      <td>M8Y</td>\n      <td>Etobicoke</td>\n      <td>Sunnylea</td>\n    </tr>\n    <tr>\n      <th>281</th>\n      <td>M8Z</td>\n      <td>Etobicoke</td>\n      <td>Kingsway Park South West</td>\n    </tr>\n    <tr>\n      <th>282</th>\n      <td>M8Z</td>\n      <td>Etobicoke</td>\n      <td>Mimico NW</td>\n    </tr>\n    <tr>\n      <th>283</th>\n      <td>M8Z</td>\n      <td>Etobicoke</td>\n      <td>The Queensway West</td>\n    </tr>\n    <tr>\n      <th>284</th>\n      <td>M8Z</td>\n      <td>Etobicoke</td>\n      <td>Royal York South West</td>\n    </tr>\n    <tr>\n      <th>285</th>\n      <td>M8Z</td>\n      <td>Etobicoke</td>\n      <td>South of Bloor</td>\n    </tr>\n  </tbody>\n</table>\n<p>210 rows \u00d7 3 columns</p>\n</div>",
                        "text/plain": "    Postcode           Borough  \\\n2        M3A        North York   \n3        M4A        North York   \n4        M5A  Downtown Toronto   \n5        M6A        North York   \n6        M6A        North York   \n7        M7A  Downtown Toronto   \n9        M9A         Etobicoke   \n10       M1B       Scarborough   \n11       M1B       Scarborough   \n13       M3B        North York   \n14       M4B         East York   \n15       M4B         East York   \n16       M5B  Downtown Toronto   \n17       M5B  Downtown Toronto   \n18       M6B        North York   \n21       M9B         Etobicoke   \n22       M9B         Etobicoke   \n23       M9B         Etobicoke   \n24       M9B         Etobicoke   \n25       M9B         Etobicoke   \n26       M1C       Scarborough   \n27       M1C       Scarborough   \n28       M1C       Scarborough   \n30       M3C        North York   \n31       M3C        North York   \n32       M4C         East York   \n33       M5C  Downtown Toronto   \n34       M6C              York   \n37       M9C         Etobicoke   \n38       M9C         Etobicoke   \n..       ...               ...   \n234      M9V         Etobicoke   \n235      M1W       Scarborough   \n238      M4W  Downtown Toronto   \n239      M5W  Downtown Toronto   \n242      M8W         Etobicoke   \n243      M8W         Etobicoke   \n244      M9W         Etobicoke   \n245      M1X       Scarborough   \n248      M4X  Downtown Toronto   \n249      M4X  Downtown Toronto   \n250      M5X  Downtown Toronto   \n251      M5X  Downtown Toronto   \n254      M8X         Etobicoke   \n255      M8X         Etobicoke   \n256      M8X         Etobicoke   \n261      M4Y  Downtown Toronto   \n264      M7Y      East Toronto   \n265      M8Y         Etobicoke   \n266      M8Y         Etobicoke   \n267      M8Y         Etobicoke   \n268      M8Y         Etobicoke   \n269      M8Y         Etobicoke   \n270      M8Y         Etobicoke   \n271      M8Y         Etobicoke   \n272      M8Y         Etobicoke   \n281      M8Z         Etobicoke   \n282      M8Z         Etobicoke   \n283      M8Z         Etobicoke   \n284      M8Z         Etobicoke   \n285      M8Z         Etobicoke   \n\n                                         Neighbourhood  \n2                                            Parkwoods  \n3                                     Victoria Village  \n4                                         Harbourfront  \n5                                     Lawrence Heights  \n6                                       Lawrence Manor  \n7                                         Queen's Park  \n9                                     Islington Avenue  \n10                                               Rouge  \n11                                             Malvern  \n13                                     Don Mills North  \n14                                    Woodbine Gardens  \n15                                       Parkview Hill  \n16                                             Ryerson  \n17                                     Garden District  \n18                                           Glencairn  \n21                                          Cloverdale  \n22                                           Islington  \n23                                        Martin Grove  \n24                                    Princess Gardens  \n25                                     West Deane Park  \n26                                      Highland Creek  \n27                                          Rouge Hill  \n28                                          Port Union  \n30                                     Flemingdon Park  \n31                                     Don Mills South  \n32                                    Woodbine Heights  \n33                                      St. James Town  \n34                                  Humewood-Cedarvale  \n37                                   Bloordale Gardens  \n38                                            Eringate  \n..                                                 ...  \n234                                        Thistletown  \n235                                    L'Amoreaux West  \n238                                           Rosedale  \n239                    Stn A PO Boxes 25 The Esplanade  \n242                                          Alderwood  \n243                                        Long Branch  \n244                                          Northwest  \n245                                        Upper Rouge  \n248                                        Cabbagetown  \n249                                     St. James Town  \n250                               First Canadian Place  \n251                                   Underground city  \n254                                       The Kingsway  \n255                                    Montgomery Road  \n256                                     Old Mill North  \n261                               Church and Wellesley  \n264  Business Reply Mail Processing Centre 969 Eastern  \n265                                         Humber Bay  \n266                                   King's Mill Park  \n267                           Kingsway Park South East  \n268                                          Mimico NE  \n269                                     Old Mill South  \n270                                 The Queensway East  \n271                              Royal York South East  \n272                                           Sunnylea  \n281                           Kingsway Park South West  \n282                                          Mimico NW  \n283                                 The Queensway West  \n284                              Royal York South West  \n285                                     South of Bloor  \n\n[210 rows x 3 columns]"
                    },
                    "execution_count": 9,
                    "metadata": {},
                    "output_type": "execute_result"
                }
            ],
            "source": "indexnames=df[df[\"Borough\"]==\"Not assigned\"].index\ndf.drop(indexnames, inplace=True)\ndf"
        },
        {
            "cell_type": "markdown",
            "metadata": {},
            "source": "#### If a cell has a borough but a Not assigned neighborhood, then the neighborhood will be the same as the borough."
        },
        {
            "cell_type": "code",
            "execution_count": 23,
            "metadata": {
                "scrolled": true
            },
            "outputs": [
                {
                    "data": {
                        "text/html": "<div>\n<style scoped>\n    .dataframe tbody tr th:only-of-type {\n        vertical-align: middle;\n    }\n\n    .dataframe tbody tr th {\n        vertical-align: top;\n    }\n\n    .dataframe thead th {\n        text-align: right;\n    }\n</style>\n<table border=\"1\" class=\"dataframe\">\n  <thead>\n    <tr style=\"text-align: right;\">\n      <th></th>\n      <th>Postcode</th>\n      <th>Borough</th>\n      <th>Neighbourhood</th>\n    </tr>\n  </thead>\n  <tbody>\n    <tr>\n      <th>2</th>\n      <td>M3A</td>\n      <td>North York</td>\n      <td>Parkwoods</td>\n    </tr>\n    <tr>\n      <th>3</th>\n      <td>M4A</td>\n      <td>North York</td>\n      <td>Victoria Village</td>\n    </tr>\n    <tr>\n      <th>4</th>\n      <td>M5A</td>\n      <td>Downtown Toronto</td>\n      <td>Harbourfront</td>\n    </tr>\n    <tr>\n      <th>5</th>\n      <td>M6A</td>\n      <td>North York</td>\n      <td>Lawrence Heights</td>\n    </tr>\n    <tr>\n      <th>6</th>\n      <td>M6A</td>\n      <td>North York</td>\n      <td>Lawrence Manor</td>\n    </tr>\n  </tbody>\n</table>\n</div>",
                        "text/plain": "  Postcode           Borough     Neighbourhood\n2      M3A        North York         Parkwoods\n3      M4A        North York  Victoria Village\n4      M5A  Downtown Toronto      Harbourfront\n5      M6A        North York  Lawrence Heights\n6      M6A        North York    Lawrence Manor"
                    },
                    "execution_count": 23,
                    "metadata": {},
                    "output_type": "execute_result"
                }
            ],
            "source": "df.loc[df['Neighbourhood']=='Not Assigned','Neighbourhood'] = df['Borough']\ndf.head()"
        },
        {
            "cell_type": "markdown",
            "metadata": {},
            "source": "#### Grouping the df1 by Postcode and Borough. Multiple Neighbourhood values to be grouped with , seperator"
        },
        {
            "cell_type": "code",
            "execution_count": 24,
            "metadata": {},
            "outputs": [
                {
                    "data": {
                        "text/html": "<div>\n<style scoped>\n    .dataframe tbody tr th:only-of-type {\n        vertical-align: middle;\n    }\n\n    .dataframe tbody tr th {\n        vertical-align: top;\n    }\n\n    .dataframe thead th {\n        text-align: right;\n    }\n</style>\n<table border=\"1\" class=\"dataframe\">\n  <thead>\n    <tr style=\"text-align: right;\">\n      <th></th>\n      <th>Postcode</th>\n      <th>Borough</th>\n      <th>Neighbourhood</th>\n    </tr>\n  </thead>\n  <tbody>\n    <tr>\n      <th>0</th>\n      <td>M3A</td>\n      <td>North York</td>\n      <td>Parkwoods</td>\n    </tr>\n    <tr>\n      <th>1</th>\n      <td>M4A</td>\n      <td>North York</td>\n      <td>Victoria Village</td>\n    </tr>\n    <tr>\n      <th>2</th>\n      <td>M5A</td>\n      <td>Downtown Toronto</td>\n      <td>Harbourfront</td>\n    </tr>\n    <tr>\n      <th>3</th>\n      <td>M6A</td>\n      <td>North York</td>\n      <td>Lawrence Heights,Lawrence Manor</td>\n    </tr>\n    <tr>\n      <th>4</th>\n      <td>M7A</td>\n      <td>Downtown Toronto</td>\n      <td>Queen's Park</td>\n    </tr>\n  </tbody>\n</table>\n</div>",
                        "text/plain": "  Postcode           Borough                    Neighbourhood\n0      M3A        North York                        Parkwoods\n1      M4A        North York                 Victoria Village\n2      M5A  Downtown Toronto                     Harbourfront\n3      M6A        North York  Lawrence Heights,Lawrence Manor\n4      M7A  Downtown Toronto                     Queen's Park"
                    },
                    "execution_count": 24,
                    "metadata": {},
                    "output_type": "execute_result"
                }
            ],
            "source": "df1=df.groupby(['Postcode','Borough'], sort=False).agg(','.join)\ndf1=df1.reset_index()\ndf1.head()"
        },
        {
            "cell_type": "code",
            "execution_count": 25,
            "metadata": {},
            "outputs": [
                {
                    "data": {
                        "text/plain": "(103, 3)"
                    },
                    "execution_count": 25,
                    "metadata": {},
                    "output_type": "execute_result"
                }
            ],
            "source": "df1.shape"
        },
        {
            "cell_type": "markdown",
            "metadata": {},
            "source": "#### Assigning name and loading the .csv file from: http://cocl.us/Geospatial_data "
        },
        {
            "cell_type": "code",
            "execution_count": 17,
            "metadata": {},
            "outputs": [
                {
                    "data": {
                        "text/html": "<div>\n<style scoped>\n    .dataframe tbody tr th:only-of-type {\n        vertical-align: middle;\n    }\n\n    .dataframe tbody tr th {\n        vertical-align: top;\n    }\n\n    .dataframe thead th {\n        text-align: right;\n    }\n</style>\n<table border=\"1\" class=\"dataframe\">\n  <thead>\n    <tr style=\"text-align: right;\">\n      <th></th>\n      <th>Postal Code</th>\n      <th>Latitude</th>\n      <th>Longitude</th>\n    </tr>\n  </thead>\n  <tbody>\n    <tr>\n      <th>0</th>\n      <td>M1B</td>\n      <td>43.806686</td>\n      <td>-79.194353</td>\n    </tr>\n    <tr>\n      <th>1</th>\n      <td>M1C</td>\n      <td>43.784535</td>\n      <td>-79.160497</td>\n    </tr>\n    <tr>\n      <th>2</th>\n      <td>M1E</td>\n      <td>43.763573</td>\n      <td>-79.188711</td>\n    </tr>\n    <tr>\n      <th>3</th>\n      <td>M1G</td>\n      <td>43.770992</td>\n      <td>-79.216917</td>\n    </tr>\n    <tr>\n      <th>4</th>\n      <td>M1H</td>\n      <td>43.773136</td>\n      <td>-79.239476</td>\n    </tr>\n  </tbody>\n</table>\n</div>",
                        "text/plain": "  Postal Code   Latitude  Longitude\n0         M1B  43.806686 -79.194353\n1         M1C  43.784535 -79.160497\n2         M1E  43.763573 -79.188711\n3         M1G  43.770992 -79.216917\n4         M1H  43.773136 -79.239476"
                    },
                    "execution_count": 17,
                    "metadata": {},
                    "output_type": "execute_result"
                }
            ],
            "source": "!wget -q -O 'Toronto_locdata.csv' http://cocl.us/Geospatial_data\ndf_lat_long=pd.read_csv('Toronto_locdata.csv')\ndf_lat_long.head()"
        },
        {
            "cell_type": "code",
            "execution_count": 26,
            "metadata": {},
            "outputs": [
                {
                    "data": {
                        "text/html": "<div>\n<style scoped>\n    .dataframe tbody tr th:only-of-type {\n        vertical-align: middle;\n    }\n\n    .dataframe tbody tr th {\n        vertical-align: top;\n    }\n\n    .dataframe thead th {\n        text-align: right;\n    }\n</style>\n<table border=\"1\" class=\"dataframe\">\n  <thead>\n    <tr style=\"text-align: right;\">\n      <th></th>\n      <th>Postcode</th>\n      <th>Latitude</th>\n      <th>Longitude</th>\n    </tr>\n  </thead>\n  <tbody>\n    <tr>\n      <th>0</th>\n      <td>M1B</td>\n      <td>43.806686</td>\n      <td>-79.194353</td>\n    </tr>\n    <tr>\n      <th>1</th>\n      <td>M1C</td>\n      <td>43.784535</td>\n      <td>-79.160497</td>\n    </tr>\n    <tr>\n      <th>2</th>\n      <td>M1E</td>\n      <td>43.763573</td>\n      <td>-79.188711</td>\n    </tr>\n    <tr>\n      <th>3</th>\n      <td>M1G</td>\n      <td>43.770992</td>\n      <td>-79.216917</td>\n    </tr>\n    <tr>\n      <th>4</th>\n      <td>M1H</td>\n      <td>43.773136</td>\n      <td>-79.239476</td>\n    </tr>\n  </tbody>\n</table>\n</div>",
                        "text/plain": "  Postcode   Latitude  Longitude\n0      M1B  43.806686 -79.194353\n1      M1C  43.784535 -79.160497\n2      M1E  43.763573 -79.188711\n3      M1G  43.770992 -79.216917\n4      M1H  43.773136 -79.239476"
                    },
                    "execution_count": 26,
                    "metadata": {},
                    "output_type": "execute_result"
                }
            ],
            "source": "df_lat_long.columns=['Postcode','Latitude', 'Longitude']\ndf_lat_long.head()"
        },
        {
            "cell_type": "markdown",
            "metadata": {},
            "source": "#### Merge the 2 tables \"df1\" and \"df_lat_long\" to make the final DataFrame to process further"
        },
        {
            "cell_type": "code",
            "execution_count": 21,
            "metadata": {},
            "outputs": [
                {
                    "data": {
                        "text/html": "<div>\n<style scoped>\n    .dataframe tbody tr th:only-of-type {\n        vertical-align: middle;\n    }\n\n    .dataframe tbody tr th {\n        vertical-align: top;\n    }\n\n    .dataframe thead th {\n        text-align: right;\n    }\n</style>\n<table border=\"1\" class=\"dataframe\">\n  <thead>\n    <tr style=\"text-align: right;\">\n      <th></th>\n      <th>Postcode</th>\n      <th>Borough</th>\n      <th>Neighbourhood</th>\n      <th>Latitude</th>\n      <th>Longitude</th>\n    </tr>\n  </thead>\n  <tbody>\n    <tr>\n      <th>0</th>\n      <td>M3A</td>\n      <td>North York</td>\n      <td>Parkwoods</td>\n      <td>43.753259</td>\n      <td>-79.329656</td>\n    </tr>\n    <tr>\n      <th>1</th>\n      <td>M4A</td>\n      <td>North York</td>\n      <td>Victoria Village</td>\n      <td>43.725882</td>\n      <td>-79.315572</td>\n    </tr>\n    <tr>\n      <th>2</th>\n      <td>M5A</td>\n      <td>Downtown Toronto</td>\n      <td>Harbourfront</td>\n      <td>43.654260</td>\n      <td>-79.360636</td>\n    </tr>\n    <tr>\n      <th>3</th>\n      <td>M6A</td>\n      <td>North York</td>\n      <td>Lawrence Heights,Lawrence Manor</td>\n      <td>43.718518</td>\n      <td>-79.464763</td>\n    </tr>\n    <tr>\n      <th>4</th>\n      <td>M7A</td>\n      <td>Downtown Toronto</td>\n      <td>Queen's Park</td>\n      <td>43.662301</td>\n      <td>-79.389494</td>\n    </tr>\n    <tr>\n      <th>5</th>\n      <td>M9A</td>\n      <td>Etobicoke</td>\n      <td>Islington Avenue</td>\n      <td>43.667856</td>\n      <td>-79.532242</td>\n    </tr>\n    <tr>\n      <th>6</th>\n      <td>M1B</td>\n      <td>Scarborough</td>\n      <td>Rouge,Malvern</td>\n      <td>43.806686</td>\n      <td>-79.194353</td>\n    </tr>\n    <tr>\n      <th>7</th>\n      <td>M3B</td>\n      <td>North York</td>\n      <td>Don Mills North</td>\n      <td>43.745906</td>\n      <td>-79.352188</td>\n    </tr>\n    <tr>\n      <th>8</th>\n      <td>M4B</td>\n      <td>East York</td>\n      <td>Woodbine Gardens,Parkview Hill</td>\n      <td>43.706397</td>\n      <td>-79.309937</td>\n    </tr>\n    <tr>\n      <th>9</th>\n      <td>M5B</td>\n      <td>Downtown Toronto</td>\n      <td>Ryerson,Garden District</td>\n      <td>43.657162</td>\n      <td>-79.378937</td>\n    </tr>\n    <tr>\n      <th>10</th>\n      <td>M6B</td>\n      <td>North York</td>\n      <td>Glencairn</td>\n      <td>43.709577</td>\n      <td>-79.445073</td>\n    </tr>\n    <tr>\n      <th>11</th>\n      <td>M9B</td>\n      <td>Etobicoke</td>\n      <td>Cloverdale,Islington,Martin Grove,Princess Gar...</td>\n      <td>43.650943</td>\n      <td>-79.554724</td>\n    </tr>\n    <tr>\n      <th>12</th>\n      <td>M1C</td>\n      <td>Scarborough</td>\n      <td>Highland Creek,Rouge Hill,Port Union</td>\n      <td>43.784535</td>\n      <td>-79.160497</td>\n    </tr>\n    <tr>\n      <th>13</th>\n      <td>M3C</td>\n      <td>North York</td>\n      <td>Flemingdon Park,Don Mills South</td>\n      <td>43.725900</td>\n      <td>-79.340923</td>\n    </tr>\n    <tr>\n      <th>14</th>\n      <td>M4C</td>\n      <td>East York</td>\n      <td>Woodbine Heights</td>\n      <td>43.695344</td>\n      <td>-79.318389</td>\n    </tr>\n    <tr>\n      <th>15</th>\n      <td>M5C</td>\n      <td>Downtown Toronto</td>\n      <td>St. James Town</td>\n      <td>43.651494</td>\n      <td>-79.375418</td>\n    </tr>\n    <tr>\n      <th>16</th>\n      <td>M6C</td>\n      <td>York</td>\n      <td>Humewood-Cedarvale</td>\n      <td>43.693781</td>\n      <td>-79.428191</td>\n    </tr>\n    <tr>\n      <th>17</th>\n      <td>M9C</td>\n      <td>Etobicoke</td>\n      <td>Bloordale Gardens,Eringate,Markland Wood,Old B...</td>\n      <td>43.643515</td>\n      <td>-79.577201</td>\n    </tr>\n    <tr>\n      <th>18</th>\n      <td>M1E</td>\n      <td>Scarborough</td>\n      <td>Guildwood,Morningside,West Hill</td>\n      <td>43.763573</td>\n      <td>-79.188711</td>\n    </tr>\n    <tr>\n      <th>19</th>\n      <td>M4E</td>\n      <td>East Toronto</td>\n      <td>The Beaches</td>\n      <td>43.676357</td>\n      <td>-79.293031</td>\n    </tr>\n    <tr>\n      <th>20</th>\n      <td>M5E</td>\n      <td>Downtown Toronto</td>\n      <td>Berczy Park</td>\n      <td>43.644771</td>\n      <td>-79.373306</td>\n    </tr>\n    <tr>\n      <th>21</th>\n      <td>M6E</td>\n      <td>York</td>\n      <td>Caledonia-Fairbanks</td>\n      <td>43.689026</td>\n      <td>-79.453512</td>\n    </tr>\n    <tr>\n      <th>22</th>\n      <td>M1G</td>\n      <td>Scarborough</td>\n      <td>Woburn</td>\n      <td>43.770992</td>\n      <td>-79.216917</td>\n    </tr>\n    <tr>\n      <th>23</th>\n      <td>M4G</td>\n      <td>East York</td>\n      <td>Leaside</td>\n      <td>43.709060</td>\n      <td>-79.363452</td>\n    </tr>\n    <tr>\n      <th>24</th>\n      <td>M5G</td>\n      <td>Downtown Toronto</td>\n      <td>Central Bay Street</td>\n      <td>43.657952</td>\n      <td>-79.387383</td>\n    </tr>\n    <tr>\n      <th>25</th>\n      <td>M6G</td>\n      <td>Downtown Toronto</td>\n      <td>Christie</td>\n      <td>43.669542</td>\n      <td>-79.422564</td>\n    </tr>\n    <tr>\n      <th>26</th>\n      <td>M1H</td>\n      <td>Scarborough</td>\n      <td>Cedarbrae</td>\n      <td>43.773136</td>\n      <td>-79.239476</td>\n    </tr>\n    <tr>\n      <th>27</th>\n      <td>M2H</td>\n      <td>North York</td>\n      <td>Hillcrest Village</td>\n      <td>43.803762</td>\n      <td>-79.363452</td>\n    </tr>\n    <tr>\n      <th>28</th>\n      <td>M3H</td>\n      <td>North York</td>\n      <td>Bathurst Manor,Downsview North,Wilson Heights</td>\n      <td>43.754328</td>\n      <td>-79.442259</td>\n    </tr>\n    <tr>\n      <th>29</th>\n      <td>M4H</td>\n      <td>East York</td>\n      <td>Thorncliffe Park</td>\n      <td>43.705369</td>\n      <td>-79.349372</td>\n    </tr>\n    <tr>\n      <th>...</th>\n      <td>...</td>\n      <td>...</td>\n      <td>...</td>\n      <td>...</td>\n      <td>...</td>\n    </tr>\n    <tr>\n      <th>73</th>\n      <td>M4R</td>\n      <td>Central Toronto</td>\n      <td>North Toronto West</td>\n      <td>43.715383</td>\n      <td>-79.405678</td>\n    </tr>\n    <tr>\n      <th>74</th>\n      <td>M5R</td>\n      <td>Central Toronto</td>\n      <td>The Annex,North Midtown,Yorkville</td>\n      <td>43.672710</td>\n      <td>-79.405678</td>\n    </tr>\n    <tr>\n      <th>75</th>\n      <td>M6R</td>\n      <td>West Toronto</td>\n      <td>Parkdale,Roncesvalles</td>\n      <td>43.648960</td>\n      <td>-79.456325</td>\n    </tr>\n    <tr>\n      <th>76</th>\n      <td>M7R</td>\n      <td>Mississauga</td>\n      <td>Canada Post Gateway Processing Centre</td>\n      <td>43.636966</td>\n      <td>-79.615819</td>\n    </tr>\n    <tr>\n      <th>77</th>\n      <td>M9R</td>\n      <td>Etobicoke</td>\n      <td>Kingsview Village,Martin Grove Gardens,Richvie...</td>\n      <td>43.688905</td>\n      <td>-79.554724</td>\n    </tr>\n    <tr>\n      <th>78</th>\n      <td>M1S</td>\n      <td>Scarborough</td>\n      <td>Agincourt</td>\n      <td>43.794200</td>\n      <td>-79.262029</td>\n    </tr>\n    <tr>\n      <th>79</th>\n      <td>M4S</td>\n      <td>Central Toronto</td>\n      <td>Davisville</td>\n      <td>43.704324</td>\n      <td>-79.388790</td>\n    </tr>\n    <tr>\n      <th>80</th>\n      <td>M5S</td>\n      <td>Downtown Toronto</td>\n      <td>Harbord,University of Toronto</td>\n      <td>43.662696</td>\n      <td>-79.400049</td>\n    </tr>\n    <tr>\n      <th>81</th>\n      <td>M6S</td>\n      <td>West Toronto</td>\n      <td>Runnymede,Swansea</td>\n      <td>43.651571</td>\n      <td>-79.484450</td>\n    </tr>\n    <tr>\n      <th>82</th>\n      <td>M1T</td>\n      <td>Scarborough</td>\n      <td>Clarks Corners,Sullivan,Tam O'Shanter</td>\n      <td>43.781638</td>\n      <td>-79.304302</td>\n    </tr>\n    <tr>\n      <th>83</th>\n      <td>M4T</td>\n      <td>Central Toronto</td>\n      <td>Moore Park,Summerhill East</td>\n      <td>43.689574</td>\n      <td>-79.383160</td>\n    </tr>\n    <tr>\n      <th>84</th>\n      <td>M5T</td>\n      <td>Downtown Toronto</td>\n      <td>Chinatown,Grange Park,Kensington Market</td>\n      <td>43.653206</td>\n      <td>-79.400049</td>\n    </tr>\n    <tr>\n      <th>85</th>\n      <td>M1V</td>\n      <td>Scarborough</td>\n      <td>Agincourt North,L'Amoreaux East,Milliken,Steel...</td>\n      <td>43.815252</td>\n      <td>-79.284577</td>\n    </tr>\n    <tr>\n      <th>86</th>\n      <td>M4V</td>\n      <td>Central Toronto</td>\n      <td>Deer Park,Forest Hill SE,Rathnelly,South Hill,...</td>\n      <td>43.686412</td>\n      <td>-79.400049</td>\n    </tr>\n    <tr>\n      <th>87</th>\n      <td>M5V</td>\n      <td>Downtown Toronto</td>\n      <td>CN Tower,Bathurst Quay,Island airport,Harbourf...</td>\n      <td>43.628947</td>\n      <td>-79.394420</td>\n    </tr>\n    <tr>\n      <th>88</th>\n      <td>M8V</td>\n      <td>Etobicoke</td>\n      <td>Humber Bay Shores,Mimico South,New Toronto</td>\n      <td>43.605647</td>\n      <td>-79.501321</td>\n    </tr>\n    <tr>\n      <th>89</th>\n      <td>M9V</td>\n      <td>Etobicoke</td>\n      <td>Albion Gardens,Beaumond Heights,Humbergate,Jam...</td>\n      <td>43.739416</td>\n      <td>-79.588437</td>\n    </tr>\n    <tr>\n      <th>90</th>\n      <td>M1W</td>\n      <td>Scarborough</td>\n      <td>L'Amoreaux West</td>\n      <td>43.799525</td>\n      <td>-79.318389</td>\n    </tr>\n    <tr>\n      <th>91</th>\n      <td>M4W</td>\n      <td>Downtown Toronto</td>\n      <td>Rosedale</td>\n      <td>43.679563</td>\n      <td>-79.377529</td>\n    </tr>\n    <tr>\n      <th>92</th>\n      <td>M5W</td>\n      <td>Downtown Toronto</td>\n      <td>Stn A PO Boxes 25 The Esplanade</td>\n      <td>43.646435</td>\n      <td>-79.374846</td>\n    </tr>\n    <tr>\n      <th>93</th>\n      <td>M8W</td>\n      <td>Etobicoke</td>\n      <td>Alderwood,Long Branch</td>\n      <td>43.602414</td>\n      <td>-79.543484</td>\n    </tr>\n    <tr>\n      <th>94</th>\n      <td>M9W</td>\n      <td>Etobicoke</td>\n      <td>Northwest</td>\n      <td>43.706748</td>\n      <td>-79.594054</td>\n    </tr>\n    <tr>\n      <th>95</th>\n      <td>M1X</td>\n      <td>Scarborough</td>\n      <td>Upper Rouge</td>\n      <td>43.836125</td>\n      <td>-79.205636</td>\n    </tr>\n    <tr>\n      <th>96</th>\n      <td>M4X</td>\n      <td>Downtown Toronto</td>\n      <td>Cabbagetown,St. James Town</td>\n      <td>43.667967</td>\n      <td>-79.367675</td>\n    </tr>\n    <tr>\n      <th>97</th>\n      <td>M5X</td>\n      <td>Downtown Toronto</td>\n      <td>First Canadian Place,Underground city</td>\n      <td>43.648429</td>\n      <td>-79.382280</td>\n    </tr>\n    <tr>\n      <th>98</th>\n      <td>M8X</td>\n      <td>Etobicoke</td>\n      <td>The Kingsway,Montgomery Road,Old Mill North</td>\n      <td>43.653654</td>\n      <td>-79.506944</td>\n    </tr>\n    <tr>\n      <th>99</th>\n      <td>M4Y</td>\n      <td>Downtown Toronto</td>\n      <td>Church and Wellesley</td>\n      <td>43.665860</td>\n      <td>-79.383160</td>\n    </tr>\n    <tr>\n      <th>100</th>\n      <td>M7Y</td>\n      <td>East Toronto</td>\n      <td>Business Reply Mail Processing Centre 969 Eastern</td>\n      <td>43.662744</td>\n      <td>-79.321558</td>\n    </tr>\n    <tr>\n      <th>101</th>\n      <td>M8Y</td>\n      <td>Etobicoke</td>\n      <td>Humber Bay,King's Mill Park,Kingsway Park Sout...</td>\n      <td>43.636258</td>\n      <td>-79.498509</td>\n    </tr>\n    <tr>\n      <th>102</th>\n      <td>M8Z</td>\n      <td>Etobicoke</td>\n      <td>Kingsway Park South West,Mimico NW,The Queensw...</td>\n      <td>43.628841</td>\n      <td>-79.520999</td>\n    </tr>\n  </tbody>\n</table>\n<p>103 rows \u00d7 5 columns</p>\n</div>",
                        "text/plain": "    Postcode           Borough  \\\n0        M3A        North York   \n1        M4A        North York   \n2        M5A  Downtown Toronto   \n3        M6A        North York   \n4        M7A  Downtown Toronto   \n5        M9A         Etobicoke   \n6        M1B       Scarborough   \n7        M3B        North York   \n8        M4B         East York   \n9        M5B  Downtown Toronto   \n10       M6B        North York   \n11       M9B         Etobicoke   \n12       M1C       Scarborough   \n13       M3C        North York   \n14       M4C         East York   \n15       M5C  Downtown Toronto   \n16       M6C              York   \n17       M9C         Etobicoke   \n18       M1E       Scarborough   \n19       M4E      East Toronto   \n20       M5E  Downtown Toronto   \n21       M6E              York   \n22       M1G       Scarborough   \n23       M4G         East York   \n24       M5G  Downtown Toronto   \n25       M6G  Downtown Toronto   \n26       M1H       Scarborough   \n27       M2H        North York   \n28       M3H        North York   \n29       M4H         East York   \n..       ...               ...   \n73       M4R   Central Toronto   \n74       M5R   Central Toronto   \n75       M6R      West Toronto   \n76       M7R       Mississauga   \n77       M9R         Etobicoke   \n78       M1S       Scarborough   \n79       M4S   Central Toronto   \n80       M5S  Downtown Toronto   \n81       M6S      West Toronto   \n82       M1T       Scarborough   \n83       M4T   Central Toronto   \n84       M5T  Downtown Toronto   \n85       M1V       Scarborough   \n86       M4V   Central Toronto   \n87       M5V  Downtown Toronto   \n88       M8V         Etobicoke   \n89       M9V         Etobicoke   \n90       M1W       Scarborough   \n91       M4W  Downtown Toronto   \n92       M5W  Downtown Toronto   \n93       M8W         Etobicoke   \n94       M9W         Etobicoke   \n95       M1X       Scarborough   \n96       M4X  Downtown Toronto   \n97       M5X  Downtown Toronto   \n98       M8X         Etobicoke   \n99       M4Y  Downtown Toronto   \n100      M7Y      East Toronto   \n101      M8Y         Etobicoke   \n102      M8Z         Etobicoke   \n\n                                         Neighbourhood   Latitude  Longitude  \n0                                            Parkwoods  43.753259 -79.329656  \n1                                     Victoria Village  43.725882 -79.315572  \n2                                         Harbourfront  43.654260 -79.360636  \n3                      Lawrence Heights,Lawrence Manor  43.718518 -79.464763  \n4                                         Queen's Park  43.662301 -79.389494  \n5                                     Islington Avenue  43.667856 -79.532242  \n6                                        Rouge,Malvern  43.806686 -79.194353  \n7                                      Don Mills North  43.745906 -79.352188  \n8                       Woodbine Gardens,Parkview Hill  43.706397 -79.309937  \n9                              Ryerson,Garden District  43.657162 -79.378937  \n10                                           Glencairn  43.709577 -79.445073  \n11   Cloverdale,Islington,Martin Grove,Princess Gar...  43.650943 -79.554724  \n12                Highland Creek,Rouge Hill,Port Union  43.784535 -79.160497  \n13                     Flemingdon Park,Don Mills South  43.725900 -79.340923  \n14                                    Woodbine Heights  43.695344 -79.318389  \n15                                      St. James Town  43.651494 -79.375418  \n16                                  Humewood-Cedarvale  43.693781 -79.428191  \n17   Bloordale Gardens,Eringate,Markland Wood,Old B...  43.643515 -79.577201  \n18                     Guildwood,Morningside,West Hill  43.763573 -79.188711  \n19                                         The Beaches  43.676357 -79.293031  \n20                                         Berczy Park  43.644771 -79.373306  \n21                                 Caledonia-Fairbanks  43.689026 -79.453512  \n22                                              Woburn  43.770992 -79.216917  \n23                                             Leaside  43.709060 -79.363452  \n24                                  Central Bay Street  43.657952 -79.387383  \n25                                            Christie  43.669542 -79.422564  \n26                                           Cedarbrae  43.773136 -79.239476  \n27                                   Hillcrest Village  43.803762 -79.363452  \n28       Bathurst Manor,Downsview North,Wilson Heights  43.754328 -79.442259  \n29                                    Thorncliffe Park  43.705369 -79.349372  \n..                                                 ...        ...        ...  \n73                                  North Toronto West  43.715383 -79.405678  \n74                   The Annex,North Midtown,Yorkville  43.672710 -79.405678  \n75                               Parkdale,Roncesvalles  43.648960 -79.456325  \n76               Canada Post Gateway Processing Centre  43.636966 -79.615819  \n77   Kingsview Village,Martin Grove Gardens,Richvie...  43.688905 -79.554724  \n78                                           Agincourt  43.794200 -79.262029  \n79                                          Davisville  43.704324 -79.388790  \n80                       Harbord,University of Toronto  43.662696 -79.400049  \n81                                   Runnymede,Swansea  43.651571 -79.484450  \n82               Clarks Corners,Sullivan,Tam O'Shanter  43.781638 -79.304302  \n83                          Moore Park,Summerhill East  43.689574 -79.383160  \n84             Chinatown,Grange Park,Kensington Market  43.653206 -79.400049  \n85   Agincourt North,L'Amoreaux East,Milliken,Steel...  43.815252 -79.284577  \n86   Deer Park,Forest Hill SE,Rathnelly,South Hill,...  43.686412 -79.400049  \n87   CN Tower,Bathurst Quay,Island airport,Harbourf...  43.628947 -79.394420  \n88          Humber Bay Shores,Mimico South,New Toronto  43.605647 -79.501321  \n89   Albion Gardens,Beaumond Heights,Humbergate,Jam...  43.739416 -79.588437  \n90                                     L'Amoreaux West  43.799525 -79.318389  \n91                                            Rosedale  43.679563 -79.377529  \n92                     Stn A PO Boxes 25 The Esplanade  43.646435 -79.374846  \n93                               Alderwood,Long Branch  43.602414 -79.543484  \n94                                           Northwest  43.706748 -79.594054  \n95                                         Upper Rouge  43.836125 -79.205636  \n96                          Cabbagetown,St. James Town  43.667967 -79.367675  \n97               First Canadian Place,Underground city  43.648429 -79.382280  \n98         The Kingsway,Montgomery Road,Old Mill North  43.653654 -79.506944  \n99                                Church and Wellesley  43.665860 -79.383160  \n100  Business Reply Mail Processing Centre 969 Eastern  43.662744 -79.321558  \n101  Humber Bay,King's Mill Park,Kingsway Park Sout...  43.636258 -79.498509  \n102  Kingsway Park South West,Mimico NW,The Queensw...  43.628841 -79.520999  \n\n[103 rows x 5 columns]"
                    },
                    "execution_count": 21,
                    "metadata": {},
                    "output_type": "execute_result"
                }
            ],
            "source": "Toronto_df=pd.merge(df1,df_lat_long, on='Postcode')\nToronto_df"
        },
        {
            "cell_type": "code",
            "execution_count": null,
            "metadata": {},
            "outputs": [],
            "source": ""
        }
    ],
    "metadata": {
        "kernelspec": {
            "display_name": "Python 3.6",
            "language": "python",
            "name": "python3"
        },
        "language_info": {
            "codemirror_mode": {
                "name": "ipython",
                "version": 3
            },
            "file_extension": ".py",
            "mimetype": "text/x-python",
            "name": "python",
            "nbconvert_exporter": "python",
            "pygments_lexer": "ipython3",
            "version": "3.6.9"
        }
    },
    "nbformat": 4,
    "nbformat_minor": 1
}